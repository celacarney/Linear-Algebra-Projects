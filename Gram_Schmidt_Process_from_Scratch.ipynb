{
  "nbformat": 4,
  "nbformat_minor": 0,
  "metadata": {
    "colab": {
      "provenance": [],
      "authorship_tag": "ABX9TyMcIbcAQ13h1Sc+dY51IFrZ",
      "include_colab_link": true
    },
    "kernelspec": {
      "name": "python3",
      "display_name": "Python 3"
    },
    "language_info": {
      "name": "python"
    }
  },
  "cells": [
    {
      "cell_type": "markdown",
      "metadata": {
        "id": "view-in-github",
        "colab_type": "text"
      },
      "source": [
        "<a href=\"https://colab.research.google.com/github/celacarney/Linear-Algebra-Projects/blob/main/Gram_Schmidt_Process_from_Scratch.ipynb\" target=\"_parent\"><img src=\"https://colab.research.google.com/assets/colab-badge.svg\" alt=\"Open In Colab\"/></a>"
      ]
    },
    {
      "cell_type": "code",
      "execution_count": 1,
      "metadata": {
        "id": "5PzbZuePMfnW"
      },
      "outputs": [],
      "source": [
        "import matplotlib.pyplot as plt\n",
        "from sympy import Poly\n",
        "import sympy as sym\n",
        "import numpy as np\n",
        "from numpy import c_\n",
        "\n",
        "# We'll specify that x and t are variables:\n",
        "x, t = sym.symbols('x, t')\n",
        "\n",
        "ll = \"loaded\""
      ]
    },
    {
      "cell_type": "code",
      "source": [
        "# Create a vector:\n",
        "r1 = np.array([3, 0, 3, 0])\n",
        "r1"
      ],
      "metadata": {
        "colab": {
          "base_uri": "https://localhost:8080/"
        },
        "id": "FSLcmex3NIAO",
        "outputId": "f63a30cb-d92b-4e4e-804b-c8b9910abca4"
      },
      "execution_count": 14,
      "outputs": [
        {
          "output_type": "execute_result",
          "data": {
            "text/plain": [
              "array([3, 0, 3, 0])"
            ]
          },
          "metadata": {},
          "execution_count": 14
        }
      ]
    },
    {
      "cell_type": "code",
      "source": [
        "# Vector arithmetic:\n",
        "3*r1"
      ],
      "metadata": {
        "colab": {
          "base_uri": "https://localhost:8080/"
        },
        "id": "4KvXMdaLOKuJ",
        "outputId": "ecf131ed-076d-477f-c4c9-2200559f9f24"
      },
      "execution_count": 8,
      "outputs": [
        {
          "output_type": "execute_result",
          "data": {
            "text/plain": [
              "array([9, 0, 9, 0])"
            ]
          },
          "metadata": {},
          "execution_count": 8
        }
      ]
    },
    {
      "cell_type": "code",
      "source": [
        "# Dot product:\n",
        "r1.dot(r1)"
      ],
      "metadata": {
        "colab": {
          "base_uri": "https://localhost:8080/"
        },
        "id": "uClLDdrOOWxh",
        "outputId": "ed9bcf1e-ecb8-4114-9f79-343dae377589"
      },
      "execution_count": 10,
      "outputs": [
        {
          "output_type": "execute_result",
          "data": {
            "text/plain": [
              "18"
            ]
          },
          "metadata": {},
          "execution_count": 10
        }
      ]
    },
    {
      "cell_type": "code",
      "source": [
        "# Square root / magnitude of the vector:\n",
        "np.sqrt(r1.dot(r1))"
      ],
      "metadata": {
        "colab": {
          "base_uri": "https://localhost:8080/"
        },
        "id": "wkF5OOwoPRvK",
        "outputId": "e652b53a-a80d-4b79-de40-50681ae5a63c"
      },
      "execution_count": 13,
      "outputs": [
        {
          "output_type": "execute_result",
          "data": {
            "text/plain": [
              "4.242640687119285"
            ]
          },
          "metadata": {},
          "execution_count": 13
        }
      ]
    },
    {
      "cell_type": "markdown",
      "source": [
        "#**Gram- Schmidt Orthonormalization Process**\n",
        "\n",
        "We'll use the Gram-Schmidt process to find orthogonal vectors in $R^4$\n"
      ],
      "metadata": {
        "id": "hiI6g6NQQINy"
      }
    },
    {
      "cell_type": "markdown",
      "source": [
        "##Our \"Random\" Vectors:"
      ],
      "metadata": {
        "id": "Ff8fWQIeQiZE"
      }
    },
    {
      "cell_type": "code",
      "source": [
        "r1 = np.array([3, 0, 3, 0])\n",
        "r2 = np.array([3, 2, 3, 3])\n",
        "r3 = np.array([-7, -4, -5, -6])\n",
        "r4 = np.array([-7, -3, -11, 2])"
      ],
      "metadata": {
        "id": "8ls11RpZQELC"
      },
      "execution_count": 32,
      "outputs": []
    },
    {
      "cell_type": "markdown",
      "source": [
        "##Process $r_1$"
      ],
      "metadata": {
        "id": "DDhaQMmgROPs"
      }
    },
    {
      "cell_type": "code",
      "source": [
        "# Choose the messy vector and subtract off the \"nice\" orthogonal pieces:\n",
        "t1 = r1\n",
        "#t1\n",
        "\n",
        "# Find the size of t1:\n",
        "m = np.sqrt(t1.dot(t1))\n",
        "\n",
        "# Create the nice orthonormal vector u1:\n",
        "u1 = (1/m) * t1\n",
        "u1"
      ],
      "metadata": {
        "colab": {
          "base_uri": "https://localhost:8080/"
        },
        "id": "MSVAeXMHREmY",
        "outputId": "2d46d463-80e9-4ba7-cc7f-cddfe54cf097"
      },
      "execution_count": 33,
      "outputs": [
        {
          "output_type": "execute_result",
          "data": {
            "text/plain": [
              "array([0.70710678, 0.        , 0.70710678, 0.        ])"
            ]
          },
          "metadata": {},
          "execution_count": 33
        }
      ]
    },
    {
      "cell_type": "code",
      "source": [
        "# Let's check magnitude and orthogonal:\n",
        "u1.dot(u1)"
      ],
      "metadata": {
        "colab": {
          "base_uri": "https://localhost:8080/"
        },
        "id": "QKzXCGkcVX2N",
        "outputId": "f2414eb4-2819-4633-ae20-8d9f9313b90a"
      },
      "execution_count": 38,
      "outputs": [
        {
          "output_type": "execute_result",
          "data": {
            "text/plain": [
              "1.0000000000000002"
            ]
          },
          "metadata": {},
          "execution_count": 38
        }
      ]
    },
    {
      "cell_type": "markdown",
      "source": [
        "##Process $r_2$"
      ],
      "metadata": {
        "id": "u75jly5tScvJ"
      }
    },
    {
      "cell_type": "code",
      "source": [
        "# Choose the messy vector and subtract off the \"nice\" orthogonal pieces:\n",
        "t2 = r2 - (u1.dot(r2))*u1\n",
        "#t2\n",
        "\n",
        "# Find the size of t2:\n",
        "m = np.sqrt(t2.dot(t2))\n",
        "m\n",
        "\n",
        "# Create the nice orthonormal vector u2:\n",
        "u2 = (1/m) * t2\n",
        "u2\n",
        "\n",
        "# essentially: [0, .55, 0, .83]\n",
        "# should be: [0, 2/sqrt(13), 0, 3/sqrt(13)]"
      ],
      "metadata": {
        "colab": {
          "base_uri": "https://localhost:8080/"
        },
        "id": "LTsNbrO0RhLS",
        "outputId": "b9324eca-1326-44b9-ba92-562aca56b495"
      },
      "execution_count": 34,
      "outputs": [
        {
          "output_type": "execute_result",
          "data": {
            "text/plain": [
              "array([-1.23168186e-16,  5.54700196e-01, -1.23168186e-16,  8.32050294e-01])"
            ]
          },
          "metadata": {},
          "execution_count": 34
        }
      ]
    },
    {
      "cell_type": "code",
      "source": [
        "# Lets check the magnitude and orthogonal:\n",
        "print(\"the size of u2: \",(u2.dot(u2)));\n",
        "print(\"u2 dotted with u1 : \",(u2.dot(u1)))"
      ],
      "metadata": {
        "colab": {
          "base_uri": "https://localhost:8080/"
        },
        "id": "SzM3rjJrVgAq",
        "outputId": "673c13e0-a52b-47f7-e15f-5aa93da6ffd3"
      },
      "execution_count": 45,
      "outputs": [
        {
          "output_type": "stream",
          "name": "stdout",
          "text": [
            "the size of u2:  1.0\n",
            "u2 dotted with u1 :  -1.741861189847285e-16\n"
          ]
        }
      ]
    },
    {
      "cell_type": "markdown",
      "source": [
        "##Process $r_3$"
      ],
      "metadata": {
        "id": "BTsFlrXJTyvP"
      }
    },
    {
      "cell_type": "code",
      "source": [
        "# Choose the messy vector and subtract off the \"nice\" orthogonal pieces:\n",
        "t3 = r3 - (u1.dot(r3))*u1 - (u2.dot(r3))*u2\n",
        "#t3\n",
        "\n",
        "# Find the size of t2:\n",
        "m = np.sqrt(t3.dot(t3))\n",
        "m\n",
        "\n",
        "# Create the nice orthonormal vector u2:\n",
        "u3 = (1/m) * t3\n",
        "u3\n"
      ],
      "metadata": {
        "colab": {
          "base_uri": "https://localhost:8080/"
        },
        "id": "S99aiyN0T3m_",
        "outputId": "f25e94d2-6fdf-4dfe-d0bf-31c5fe537541"
      },
      "execution_count": 35,
      "outputs": [
        {
          "output_type": "execute_result",
          "data": {
            "text/plain": [
              "array([-7.07106781e-01, -3.14018492e-16,  7.07106781e-01, -6.28036983e-16])"
            ]
          },
          "metadata": {},
          "execution_count": 35
        }
      ]
    },
    {
      "cell_type": "markdown",
      "source": [
        "##Process $r_4$"
      ],
      "metadata": {
        "id": "Lk6lOoLKURo6"
      }
    },
    {
      "cell_type": "code",
      "source": [
        "# Choose the messy vector and subtract off the \"nice\" orthogonal pieces:\n",
        "t4 = r4 - (u1.dot(r4))*u1 - (u2.dot(r4))*u2 - (u3.dot(r4))*u3\n",
        "#t4\n",
        "\n",
        "# Find the size of t2:\n",
        "m = np.sqrt(t4.dot(t4))\n",
        "m\n",
        "\n",
        "# Create the nice orthonormal vector u2:\n",
        "u4 = (1/m) * t4\n",
        "u4"
      ],
      "metadata": {
        "colab": {
          "base_uri": "https://localhost:8080/"
        },
        "id": "0urIIWIPUV1X",
        "outputId": "8904de43-8176-425f-bc49-f5833fe504e6"
      },
      "execution_count": 37,
      "outputs": [
        {
          "output_type": "execute_result",
          "data": {
            "text/plain": [
              "array([ 0.        , -0.83205029,  0.        ,  0.5547002 ])"
            ]
          },
          "metadata": {},
          "execution_count": 37
        }
      ]
    },
    {
      "cell_type": "markdown",
      "source": [
        "#Sanity Checks:\n",
        "\n",
        "Vectors should be orthogonal and have size 1:"
      ],
      "metadata": {
        "id": "9xgpNwaPU7si"
      }
    },
    {
      "cell_type": "code",
      "source": [
        "print(\"r1 = \")\n",
        "print()"
      ],
      "metadata": {
        "id": "gtxOsWWKVCQk"
      },
      "execution_count": null,
      "outputs": []
    }
  ]
}